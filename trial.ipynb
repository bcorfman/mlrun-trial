{
 "cells": [
  {
   "cell_type": "code",
   "execution_count": 1,
   "metadata": {},
   "outputs": [
    {
     "name": "stdout",
     "output_type": "stream",
     "text": [
      "\u001b[2K\u001b[36m\u001b[1mBuilding\u001b[0m\u001b[39m \u001b[2mfile:///home/bcorfman/dev/mlrun-trial\u001b[0m            \u001b[0m \u001b[0m░░░░░░░░░░░░░░░░░░░░ [0/0] \u001b[2mFetching packages...                                 \u001b[0m\n",
      "\u001b[2K\u001b[1A   \u001b[32m\u001b[1mBuilt\u001b[0m\u001b[39m \u001b[2mfile:///home/bcorfman/dev/mlrun-trial\u001b[0m    \u001b[0m\u001b[1A\n",
      "\u001b[2K\u001b[1A   \u001b[32m\u001b[1mBuilt\u001b[0m\u001b[39m \u001b[2mfile:///home/bcorfman/dev/mlrun-trial\u001b[0m    \u001b[0m\u001b[1A\n",
      "\u001b[2K\u001b[1A   \u001b[32m\u001b[1mBuilt\u001b[0m\u001b[39m \u001b[2mfile:///home/bcorfman/dev/mlrun-trial\u001b[0mv/ml\u001b[0m\u001b[1A\n",
      "\u001b[2K\u001b[1A   \u001b[32m\u001b[1mBuilt\u001b[0m\u001b[39m \u001b[2mfile:///home/bcorfman/dev/mlrun-trial\u001b[0m                                  \u001b[2mBuilt \u001b[1m1 editable\u001b[0m in 440ms\u001b[0m\n",
      "\u001b[2mUninstalled \u001b[1m1 package\u001b[0m in 3ms\u001b[0m\n",
      "\u001b[2K\u001b[2mInstalled \u001b[1m1 package\u001b[0m in 1ms\u001b[0m==0.1.0 (from file:///home/bcorfman/dev/ml\u001b[0m\n",
      " \u001b[31m-\u001b[39m \u001b[1mmlrun-trial\u001b[0m\u001b[2m==0.1.0 (from file:///home/bcorfman/dev/mlrun-trial)\u001b[0m\n",
      " \u001b[32m+\u001b[39m \u001b[1mmlrun-trial\u001b[0m\u001b[2m==0.1.0 (from file:///home/bcorfman/dev/mlrun-trial)\u001b[0m\n"
     ]
    }
   ],
   "source": [
    "# trying to install on 3.11 fails trying to build wheel files; see https://github.com/yaml/pyyaml/issues/724\n",
    "!rye add pyyaml==5.3 mlrun>=1.6.4  scikit-learn~=1.4.0  numpy~=1.26 protobuf==3.19.6\n"
   ]
  },
  {
   "cell_type": "code",
   "execution_count": 2,
   "metadata": {},
   "outputs": [],
   "source": [
    "import mlrun"
   ]
  },
  {
   "cell_type": "code",
   "execution_count": 3,
   "metadata": {},
   "outputs": [
    {
     "name": "stdout",
     "output_type": "stream",
     "text": [
      "> 2024-07-02 23:14:31,264 [info] Project loaded successfully: {'project_name': 'quick-tutorial'}\n"
     ]
    }
   ],
   "source": [
    "project = mlrun.get_or_create_project(\"quick-tutorial\", \"./\", user_project=True)"
   ]
  },
  {
   "cell_type": "code",
   "execution_count": 4,
   "metadata": {},
   "outputs": [
    {
     "name": "stdout",
     "output_type": "stream",
     "text": [
      "Writing data-prep.py\n"
     ]
    }
   ],
   "source": [
    "%%writefile data-prep.py\n",
    "\n",
    "import pandas as pd\n",
    "from sklearn.datasets import load_breast_cancer\n",
    "\n",
    "import mlrun\n",
    "\n",
    "\n",
    "@mlrun.handler(outputs=[\"dataset\", \"label_column\"])\n",
    "def breast_cancer_generator():\n",
    "    \"\"\"\n",
    "    A function which generates the breast cancer dataset\n",
    "    \"\"\"\n",
    "    breast_cancer = load_breast_cancer()\n",
    "    breast_cancer_dataset = pd.DataFrame(\n",
    "        data=breast_cancer.data, columns=breast_cancer.feature_names\n",
    "    )\n",
    "    breast_cancer_labels = pd.DataFrame(data=breast_cancer.target, columns=[\"label\"])\n",
    "    breast_cancer_dataset = pd.concat(\n",
    "        [breast_cancer_dataset, breast_cancer_labels], axis=1\n",
    "    )\n",
    "\n",
    "    return breast_cancer_dataset, \"label\""
   ]
  },
  {
   "cell_type": "code",
   "execution_count": 5,
   "metadata": {},
   "outputs": [
    {
     "data": {
      "text/plain": [
       "<mlrun.projects.project.MlrunProject at 0x7f7564f415a0>"
      ]
     },
     "execution_count": 5,
     "metadata": {},
     "output_type": "execute_result"
    }
   ],
   "source": [
    "data_gen_fn = project.set_function(\n",
    "    \"data-prep.py\",\n",
    "    name=\"data-prep\",\n",
    "    kind=\"job\",\n",
    "    image=\"mlrun/mlrun\",\n",
    "    handler=\"breast_cancer_generator\",\n",
    ")\n",
    "project.save()  # save the project with the latest config"
   ]
  },
  {
   "cell_type": "code",
   "execution_count": null,
   "metadata": {},
   "outputs": [],
   "source": []
  }
 ],
 "metadata": {
  "kernelspec": {
   "display_name": ".venv",
   "language": "python",
   "name": "python3"
  },
  "language_info": {
   "codemirror_mode": {
    "name": "ipython",
    "version": 3
   },
   "file_extension": ".py",
   "mimetype": "text/x-python",
   "name": "python",
   "nbconvert_exporter": "python",
   "pygments_lexer": "ipython3",
   "version": "3.10.14"
  }
 },
 "nbformat": 4,
 "nbformat_minor": 2
}
